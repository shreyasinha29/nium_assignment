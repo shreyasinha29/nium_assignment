{
  "nbformat": 4,
  "nbformat_minor": 0,
  "metadata": {
    "colab": {
      "provenance": []
    },
    "kernelspec": {
      "name": "python3",
      "display_name": "Python 3"
    },
    "language_info": {
      "name": "python"
    }
  },
  "cells": [
    {
      "cell_type": "code",
      "execution_count": null,
      "metadata": {
        "colab": {
          "base_uri": "https://localhost:8080/"
        },
        "id": "3IU-yBFO0Jnr",
        "outputId": "6feeac09-2ab6-49d6-d26c-39fe809df04a"
      },
      "outputs": [
        {
          "output_type": "stream",
          "name": "stdout",
          "text": [
            "Group 1: ['cat', 'dog', 'abc']\n",
            "Group 2: ['tram', 'help', 'boat']\n",
            "Group 3: ['world', 'range', 'grail']\n"
          ]
        }
      ],
      "source": [
        "# the function outputs a lists of list by the logic that each sublist contains the same length word\n",
        "def group_by_length(words):\n",
        "    grouped_words = []\n",
        "\n",
        "    unique_lengths = set(len(word) for word in words)\n",
        "\n",
        "    for length in unique_lengths:\n",
        "        grouped_words.append([])\n",
        "\n",
        "    for word in words:\n",
        "        length = len(word)\n",
        "        index = list(unique_lengths).index(length)\n",
        "        grouped_words[index].append(word)\n",
        "\n",
        "    return grouped_words\n",
        "\n",
        "word_list = [\"cat\", \"dog\", \"abc\", \"tram\", \"help\", \"boat\", \"world\", \"range\", \"grail\"]\n",
        "grouped_by_length = group_by_length(word_list)\n",
        "\n",
        "for index, group in enumerate(grouped_by_length, 1):\n",
        "    print(f\"Group {index}: {group}\")"
      ]
    },
    {
      "cell_type": "code",
      "source": [
        "# Unit test case\n",
        "def test_group_by_length_logic1():\n",
        "        testcase = [\"bat\", \"list\", \"hello\"]\n",
        "        result = group_by_length(testcase)\n",
        "        output = [['bat'], ['list'], ['hello']]\n",
        "\n",
        "        # for index, group in enumerate(grouped_by_length, 1):\n",
        "        #   print(f\"Group {index}: {group}\")\n",
        "\n",
        "        if sorted(result)==sorted(output):\n",
        "          print(\"Grouping by logic1: Test case passsed.\")\n",
        "        else:\n",
        "          print(\"failed\")\n",
        "\n",
        "test_group_by_length_logic1()\n"
      ],
      "metadata": {
        "colab": {
          "base_uri": "https://localhost:8080/"
        },
        "id": "jpPgl82xCl_4",
        "outputId": "8d104d78-1709-4671-84c5-3cb847c51159"
      },
      "execution_count": null,
      "outputs": [
        {
          "output_type": "stream",
          "name": "stdout",
          "text": [
            "Group 1: ['bat']\n",
            "Group 2: ['list']\n",
            "Group 3: ['hello']\n",
            "Grouping by logic1: Test case passsed.\n"
          ]
        }
      ]
    },
    {
      "cell_type": "code",
      "source": [],
      "metadata": {
        "id": "RbgyaL79Rtl6"
      },
      "execution_count": null,
      "outputs": []
    }
  ]
}